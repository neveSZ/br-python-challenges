{
  "nbformat": 4,
  "nbformat_minor": 0,
  "metadata": {
    "anaconda-cloud": {},
    "kernelspec": {
      "display_name": "Python 3",
      "language": "python",
      "name": "python3"
    },
    "language_info": {
      "codemirror_mode": {
        "name": "ipython",
        "version": 3
      },
      "file_extension": ".py",
      "mimetype": "text/x-python",
      "name": "python",
      "nbconvert_exporter": "python",
      "pygments_lexer": "ipython3",
      "version": "3.6.5"
    },
    "colab": {
      "name": "Desafio 8.ipynb",
      "provenance": [],
      "toc_visible": true,
      "include_colab_link": true
    }
  },
  "cells": [
    {
      "cell_type": "markdown",
      "metadata": {
        "id": "view-in-github",
        "colab_type": "text"
      },
      "source": [
        "<a href=\"https://colab.research.google.com/github/neveSZ/br-python-challenges/blob/master/Desafio_08.ipynb\" target=\"_parent\"><img src=\"https://colab.research.google.com/assets/colab-badge.svg\" alt=\"Open In Colab\"/></a>"
      ]
    },
    {
      "cell_type": "markdown",
      "metadata": {
        "id": "o3tkeMDNf6Jo",
        "colab_type": "text"
      },
      "source": [
        "### Desafio 8\n",
        "\n",
        "Escreva um script Python para encontrar as 10 palavras mais longas em um arquivo.\n",
        "\n",
        "O arquivo TXT está localizado na mesma pasta do projeto (texto.txt)."
      ]
    },
    {
      "cell_type": "code",
      "metadata": {
        "id": "EknxjSG0f6Jo",
        "colab_type": "code",
        "colab": {}
      },
      "source": [
        "# Leitura do arquivo\n",
        "import urllib.request\n",
        "content=urllib.request.urlopen(\"https://raw.githubusercontent.com/neveSZ/br-python-challenges/master/texto.txt\").read().decode('utf-8')"
      ],
      "execution_count": 1,
      "outputs": []
    },
    {
      "cell_type": "code",
      "metadata": {
        "id": "ZYbqEWBG5nKx",
        "colab_type": "code",
        "colab": {}
      },
      "source": [
        "# Substituir caracteres por espaco\n",
        "txt = content.replace('?', ' ').replace(',', ' ').replace('.', ' ').replace('(', ' ').replace(')', ' ').replace('\\n', ' ').replace('\\r', ' ')\n",
        "# Remover os espacos\n",
        "txt = txt.split()\n",
        "# Tornar as palavras unicas e ordena-las\n",
        "txt = sorted(set(txt), key=len)\n",
        "# Pegar as 10 maiores\n",
        "dez_maiores = txt[-10:]"
      ],
      "execution_count": 4,
      "outputs": []
    }
  ]
}